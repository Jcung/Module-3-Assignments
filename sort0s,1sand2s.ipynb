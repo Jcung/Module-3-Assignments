{
 "cells": [
  {
   "cell_type": "code",
   "execution_count": 6,
   "id": "ad783d6c-f930-4026-929a-76cd9a6fe1ca",
   "metadata": {},
   "outputs": [
    {
     "name": "stdout",
     "output_type": "stream",
     "text": [
      "c\n"
     ]
    }
   ],
   "source": [
    "a=10\n",
    "b=10\n",
    "\n",
    "c = a + b\n",
    "\n",
    "print('c')"
   ]
  },
  {
   "cell_type": "code",
   "execution_count": null,
   "id": "2e34ed23-1c36-478d-9178-e42f1afd32be",
   "metadata": {},
   "outputs": [],
   "source": [
    "# Basic input\n",
    "name = input(\"Enter your name: \")\n",
    "print(\"Hello, \" + name + \"!\")\n",
    "\n",
    "# Getting numeric input\n",
    "age_str = input(\"Enter your age: \")\n",
    "age = int(age_str)  # Convert string to integer\n",
    "print(\"You are\", age, \"years old\")\n",
    "\n",
    "# Or in one line\n",
    "number = float(input(\"Enter a number: \"))\n",
    "print(\"Double that number is:\", number * 2)"
   ]
  }
 ],
 "metadata": {
  "kernelspec": {
   "display_name": "anaconda-2024.02-py310",
   "language": "python",
   "name": "conda-env-anaconda-2024.02-py310-py"
  },
  "language_info": {
   "codemirror_mode": {
    "name": "ipython",
    "version": 3
   },
   "file_extension": ".py",
   "mimetype": "text/x-python",
   "name": "python",
   "nbconvert_exporter": "python",
   "pygments_lexer": "ipython3",
   "version": "3.10.14"
  }
 },
 "nbformat": 4,
 "nbformat_minor": 5
}
